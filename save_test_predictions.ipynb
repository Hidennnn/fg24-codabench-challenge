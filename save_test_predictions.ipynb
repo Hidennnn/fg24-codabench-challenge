{
 "cells": [
  {
   "cell_type": "code",
   "execution_count": 1,
   "id": "60a1db3c-9b1d-4739-b494-cedbd60ebb17",
   "metadata": {},
   "outputs": [],
   "source": [
    "import os\n",
    "import pickle\n",
    "\n",
    "from tensorflow.keras.models import load_model\n",
    "import pandas as pd\n",
    "import numpy as np"
   ]
  },
  {
   "cell_type": "code",
   "execution_count": 2,
   "id": "984b4733-be98-4830-8c09-d39b706045f1",
   "metadata": {},
   "outputs": [],
   "source": [
    "# load final model\n",
    "model = load_model('final_model_additional_train.h5')"
   ]
  },
  {
   "cell_type": "code",
   "execution_count": 3,
   "id": "809cf86b-e0b7-44a9-ace5-f22c19317e80",
   "metadata": {},
   "outputs": [],
   "source": [
    "# load OneHotEncoding\n",
    "with open('ohe.save', 'rb') as fp:\n",
    "    ohe = pickle.load(fp)"
   ]
  },
  {
   "cell_type": "code",
   "execution_count": 4,
   "id": "fd761cf2-8cbb-4c2e-9f0c-8c423e09577f",
   "metadata": {},
   "outputs": [],
   "source": [
    "# load MinMaxScaler\n",
    "with open('mms.save', 'rb') as fp:\n",
    "    mms = pickle.load(fp)"
   ]
  },
  {
   "cell_type": "code",
   "execution_count": 5,
   "id": "a0847c9f-55ad-4fcb-a889-929b3adeb8cf",
   "metadata": {},
   "outputs": [],
   "source": [
    "# load test data\n",
    "test_frames = []\n",
    "for file in os.listdir('test'):\n",
    "    df_temp = pd.read_csv(f'test/{file}')\n",
    "    df_temp = df_temp.iloc[1500:3001, 1:]\n",
    "    df_temp = df_temp.to_numpy()\n",
    "    test_frames.append(df_temp)"
   ]
  },
  {
   "cell_type": "code",
   "execution_count": 6,
   "id": "81c6cea9-3398-425f-b9c2-fa0a721a6fc8",
   "metadata": {},
   "outputs": [],
   "source": [
    "# change list to numpy array\n",
    "test_frames = np.array(test_frames)"
   ]
  },
  {
   "cell_type": "code",
   "execution_count": 7,
   "id": "b8dc6ae2-7013-45ec-8a2b-62ab3f89aa36",
   "metadata": {},
   "outputs": [],
   "source": [
    "# transform \n",
    "for x in range(test_frames.shape[0]):\n",
    "    test_frames[x] = mms.transform(test_frames[x])"
   ]
  },
  {
   "cell_type": "code",
   "execution_count": 8,
   "id": "8a44c008-952c-48d5-9c71-d2936bebe584",
   "metadata": {},
   "outputs": [
    {
     "name": "stdout",
     "output_type": "stream",
     "text": [
      "6/6 [==============================] - 5s 29ms/step\n"
     ]
    }
   ],
   "source": [
    "# make prediction\n",
    "y_predict = model.predict(test_frames)"
   ]
  },
  {
   "cell_type": "code",
   "execution_count": 9,
   "id": "0ce8b513-70c1-41ae-93bc-ff2228396c7c",
   "metadata": {},
   "outputs": [],
   "source": [
    "# transform OneHotEncoding to integers\n",
    "y_ohe = ohe.inverse_transform(y_predict)"
   ]
  },
  {
   "cell_type": "code",
   "execution_count": 10,
   "id": "287ac1fc-8302-400a-9933-fd844a3e48ec",
   "metadata": {},
   "outputs": [],
   "source": [
    "files_validation = os.listdir('test')"
   ]
  },
  {
   "cell_type": "code",
   "execution_count": 11,
   "id": "6ee55eb6-fb02-41f6-b59e-e9a9f97f645d",
   "metadata": {},
   "outputs": [],
   "source": [
    "# save predictions\n",
    "with open('predictions.csv', 'w') as fp:\n",
    "    fp.write('filename,class\\n')\n",
    "    for x in range(y_ohe.shape[0]):\n",
    "        fp.write(f'{files_validation[x]},{y_ohe[x][0]}\\n')"
   ]
  }
 ],
 "metadata": {
  "kernelspec": {
   "display_name": "Python 3 (ipykernel)",
   "language": "python",
   "name": "python3"
  },
  "language_info": {
   "codemirror_mode": {
    "name": "ipython",
    "version": 3
   },
   "file_extension": ".py",
   "mimetype": "text/x-python",
   "name": "python",
   "nbconvert_exporter": "python",
   "pygments_lexer": "ipython3",
   "version": "3.8.16"
  }
 },
 "nbformat": 4,
 "nbformat_minor": 5
}
